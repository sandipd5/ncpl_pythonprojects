{
 "cells": [
  {
   "cell_type": "markdown",
   "metadata": {
    "id": "pstGkXzw3Mya"
   },
   "source": [
    "Python Assignment\n",
    "\n",
    "Project Overview\n",
    "This assignment aims to provide a comprehensive understanding of Python programming fundamentals. You will create code examples to demonstrate your proficiency in various Python concepts.\n",
    "\n",
    "Task\n",
    "Create a Jupyter Notebook to document your code and explanations.\n",
    "Write at least five code examples for each of the following concepts:\n",
    "Python Functions\n",
    "Lambda Functions\n",
    "NumPy\n",
    "Pandas\n",
    "If Statements\n",
    "Loops (for and while)\n",
    "Lists, Tuples, Sets, Dictionaries\n",
    "Operators (arithmetic, comparison, logical, etc.)\n",
    "Reading CSV files\n",
    "Python String Methods\n",
    "\n",
    "\n",
    "\n",
    "Concepts to Cover\n",
    "\n",
    "Python Functions\n",
    "\n",
    "Create functions with different numbers of parameters and return types.\n",
    "Explore function scope and variable accessibility.\n",
    "Implement functions with default argument values.\n",
    "Write recursive functions.\n",
    "Demonstrate how to use docstrings to document functions.\n",
    "\n",
    "\n",
    "Lambda Functions\n",
    "\n",
    "Create simple lambda functions for various operations.\n",
    "Use lambda functions with built-in functions like map, filter, and reduce.\n",
    "Compare lambda functions with regular functions in terms of syntax and use cases.\n",
    "\n",
    "NumPy\n",
    "\n",
    "Create different types of NumPy arrays (1D, 2D, 3D).\n",
    "\n",
    "Perform basic arithmetic operations on arrays.\n",
    "Use indexing and slicing to access elements.\n",
    "Explore array manipulation functions (reshape, transpose, concatenate).\n",
    "Create and use NumPy random number generators.\n",
    "\n",
    "Pandas\n",
    "\n",
    "Create Pandas Series and DataFrames.\n",
    "Load data from various file formats (CSV, Excel, etc.).\n",
    "Perform data cleaning and manipulation tasks.\n",
    "Explore data analysis and visualization using Pandas.\n",
    "Create pivot tables and group data for analysis.\n",
    "\n",
    "If Statements\n",
    "\n",
    "Demonstrate conditional logic using if, else, and elif statements.\n",
    "Create complex conditional expressions.\n",
    "Implement nested if statements.\n",
    "\n",
    "Loops\n",
    "\n",
    "Use for loops to iterate over sequences.\n",
    "Employ while loops for indefinite iteration.\n",
    "Implement nested loops.\n",
    "Utilize break and continue statements.\n",
    "\n",
    "Lists, Tuples, Sets, Dictionaries\n",
    "\n",
    "Create and manipulate lists, tuples, sets, and dictionaries.\n",
    "Understand the differences between these data structures.\n",
    "Perform operations like indexing, slicing, adding, removing elements.\n",
    "Explore built-in methods for each data structure.\n",
    "\n",
    "Operators\n",
    "\n",
    "Use arithmetic, comparison, logical, and assignment operators.\n",
    "Understand operator precedence.\n",
    "Apply operators in expressions and calculations.\n",
    "Reading CSV files\n",
    "Read CSV files into Pandas DataFrames.\n",
    "Explore different CSV reading options and parameters.\n",
    "Handle missing values and data cleaning.\n",
    "\n",
    "Python String Methods\n",
    "\n",
    "Manipulate strings using various built-in methods.\n",
    "Perform operations like concatenation, slicing, finding substrings.\n",
    "Convert strings to uppercase, lowercase, and title case.\n",
    "Remove whitespace and split strings.\n",
    "\n",
    "\n",
    "Submission\n",
    "Save your Jupyter Notebook as a PDF.\n",
    "Submit the PDF by Monday.\n",
    "Additional Tips\n",
    "Use clear and concise code comments to explain your code.\n",
    "Experiment with different approaches and libraries to enhance your learning.\n",
    "Refer to online resources and documentation for further exploration.\n"
   ]
  },
  {
   "cell_type": "markdown",
   "metadata": {
    "id": "XCeb2PKk5FhS"
   },
   "source": [
    "## Python Functions\n"
   ]
  },
  {
   "cell_type": "code",
   "execution_count": null,
   "metadata": {
    "colab": {
     "base_uri": "https://localhost:8080/"
    },
    "id": "54NZEdGV5JJQ",
    "outputId": "c30513e9-a509-46d8-9f74-ca26ce49121a"
   },
   "outputs": [
    {
     "name": "stdout",
     "output_type": "stream",
     "text": [
      "Area : 11.5\n",
      "Type : <class 'float'>\n"
     ]
    }
   ],
   "source": [
    "## Create functions with different numbers of parameters and return types.\n",
    "\n",
    "def calculate_area(length, width):\n",
    "  area = length * width\n",
    "  return area\n",
    "\n",
    "area = calculate_area(5,2.3)\n",
    "print(f\"Area : {area}\")\n",
    "print(f\"Type : {type(area)}\")\n",
    "\n",
    "\n"
   ]
  },
  {
   "cell_type": "code",
   "execution_count": null,
   "metadata": {
    "colab": {
     "base_uri": "https://localhost:8080/"
    },
    "id": "1OsZSmNR5-yc",
    "outputId": "23df0d12-4796-4966-cebe-d20dda050280"
   },
   "outputs": [
    {
     "name": "stdout",
     "output_type": "stream",
     "text": [
      "Outer variable\n",
      "Inner variable\n",
      "completed\n"
     ]
    }
   ],
   "source": [
    "## Function Scopes and variable accesibilty\n",
    "\n",
    "def outer_function():  # step 1 : defined outer function : not executed yet\n",
    "  outer_variable = \"Outer variable\" # step 3: executed initialized variable\n",
    "\n",
    "  def inner_function(): #step 4 : defined inner function : not executed yet\n",
    "    inner_var = \"Inner variable\" # step 6 : executed initialized variable\n",
    "    print(outer_variable)  # step 7 : executed print statement\n",
    "    return inner_var # step 8 : store inner var\n",
    "\n",
    "  results = inner_function() # step 5 : call inner function\n",
    "  print(results) # step 9 : print stored inner var here\n",
    "\n",
    "outer_function() # step 2 : call outer function\n",
    "print(\"completed\") # step 10 : last execution\n"
   ]
  },
  {
   "cell_type": "code",
   "execution_count": null,
   "metadata": {
    "colab": {
     "base_uri": "https://localhost:8080/"
    },
    "id": "VjJIUOxGAKSi",
    "outputId": "ef01c149-b945-43ac-d38f-94e32d97873c"
   },
   "outputs": [
    {
     "name": "stdout",
     "output_type": "stream",
     "text": [
      "Hello, Sandip !\n",
      "Hi, Jyonita .\n"
     ]
    }
   ],
   "source": [
    "## Implement functions with default argument values.\n",
    "\n",
    "def generate_greeting(name, greeting = \"Hello\", punctuation = \"!\"):\n",
    "  return f\"{greeting}, {name} {punctuation}\"\n",
    "\n",
    "print(generate_greeting(\"Sandip\"))\n",
    "print(generate_greeting(\"Jyonita\",\"Hi\",\".\"))\n",
    "\n"
   ]
  },
  {
   "cell_type": "code",
   "execution_count": null,
   "metadata": {
    "id": "7TF42exOG26c"
   },
   "outputs": [],
   "source": [
    "# recursive\n",
    "\n",
    "def factorial(n):\n",
    "\n"
   ]
  },
  {
   "cell_type": "code",
   "execution_count": null,
   "metadata": {
    "colab": {
     "base_uri": "https://localhost:8080/"
    },
    "id": "oQ5dCUZlAUV2",
    "outputId": "db84eccc-a930-49e2-9dc0-3984b9500213"
   },
   "outputs": [
    {
     "name": "stdout",
     "output_type": "stream",
     "text": [
      "120\n"
     ]
    }
   ],
   "source": [
    "## Recursive Functions\n",
    "\n",
    "def nfactorial(m):\n",
    "  if m == 1:\n",
    "    return 1\n",
    "  return m * nfactorial(m-1)\n",
    "\n",
    "print(nfactorial(5))"
   ]
  },
  {
   "cell_type": "code",
   "execution_count": null,
   "metadata": {
    "colab": {
     "base_uri": "https://localhost:8080/"
    },
    "id": "bnd5ceNdD9Gq",
    "outputId": "d5f91d00-ad40-4033-c2f7-91e983781935"
   },
   "outputs": [
    {
     "name": "stdout",
     "output_type": "stream",
     "text": [
      "{'Words': 13, 'Sentences': 3}\n"
     ]
    }
   ],
   "source": [
    "## Demonstrate how to use docstrings to document functions.\n",
    "\n",
    "import re\n",
    "\n",
    "def analyze_text(text):\n",
    "\n",
    "  \"\"\"\n",
    "  Analyze a given text to count the numnber of words and sentences.\n",
    "\n",
    "  parameters:\n",
    "  text( str): The text to be analyzed.\n",
    "\n",
    "  Returns:\n",
    "  dict: A dictionary with word and sentence counts.\n",
    "\n",
    "  \"\"\"\n",
    "  sentences = re.split(r'[.!?]',text)\n",
    "  word_count = sum(len(sentence.split()) for sentence in sentences if sentence.strip())\n",
    "  sentence_count = len([s for s in sentences if s.strip()])\n",
    "\n",
    "  return {\"Words\": word_count, \"Sentences\": sentence_count}\n",
    "\n",
    "# Example Usage:\n",
    "text = \"Hello world! This is a test. How many words and sentences are here?\"\n",
    "print(analyze_text(text))\n",
    "\n"
   ]
  },
  {
   "cell_type": "markdown",
   "metadata": {
    "id": "4o2nZCy_E4nG"
   },
   "source": [
    "### Lambda Functions\n",
    "\n"
   ]
  },
  {
   "cell_type": "code",
   "execution_count": null,
   "metadata": {
    "colab": {
     "base_uri": "https://localhost:8080/"
    },
    "id": "NK0oGbSvKaKn",
    "outputId": "63500f5e-f1d1-4481-bc10-21972192aeb7"
   },
   "outputs": [
    {
     "name": "stdout",
     "output_type": "stream",
     "text": [
      "25\n",
      "3\n",
      "9\n"
     ]
    }
   ],
   "source": [
    "# Create simple lambda functions for various operations.\n",
    "a = lambda x:x*5\n",
    "print(a(5))\n",
    "\n",
    "b = lambda y,z:y+z\n",
    "print(b(1,2))\n",
    "\n",
    "c = lambda p,q:p if p>q else q\n",
    "print(c(9,7))"
   ]
  },
  {
   "cell_type": "code",
   "execution_count": null,
   "metadata": {
    "colab": {
     "base_uri": "https://localhost:8080/"
    },
    "id": "FT_XhJEQGyea",
    "outputId": "956e5fa2-ceab-4177-ed45-80f939626a11"
   },
   "outputs": [
    {
     "name": "stdout",
     "output_type": "stream",
     "text": [
      "Map example : [1, 4, 9, 16, 25]\n",
      "Filter example : [2, 4]\n",
      "Reduce example : 15\n",
      "56\n"
     ]
    }
   ],
   "source": [
    "# Use lambda functions with built-in functions like map, filter, and reduce.\n",
    "\n",
    "from functools import reduce\n",
    "\n",
    "# Map\n",
    "lst = [1,2,3,4,5]\n",
    "x = list(map(lambda x: x**2,lst))\n",
    "print(f\"Map example : {x}\")\n",
    "\n",
    "# Filter\n",
    "lst2 = [1,2,3,4,5]\n",
    "y = list(filter(lambda y:y%2==0,lst2))\n",
    "print(f\"Filter example : {y}\")\n",
    "\n",
    "# Reduce\n",
    "lst3 = [1,2,3,4,5]\n",
    "z = reduce(lambda x,y:x+y,lst3)\n",
    "print(f\"Reduce example : {z}\")\n",
    "\n",
    "# combinig map,filter, and reduce\n",
    "lst4 = [1,2,3,4,5,6]\n",
    "a = list(filter(lambda x:x%2==0,lst4))\n",
    "b = list(map(lambda x:x**2,a))\n",
    "c = reduce(lambda x,y : x+y,b)\n",
    "print(c)"
   ]
  },
  {
   "cell_type": "code",
   "execution_count": null,
   "metadata": {
    "colab": {
     "base_uri": "https://localhost:8080/"
    },
    "id": "Nylf8v1xVtMw",
    "outputId": "4b2bbe7b-c4d3-4c19-c78e-009cfd3be3f7"
   },
   "outputs": [
    {
     "name": "stdout",
     "output_type": "stream",
     "text": [
      "5\n",
      "5\n"
     ]
    }
   ],
   "source": [
    "# Compare lambda functions with regular functions in terms of syntax and use cases.\n",
    "\n",
    "add = lambda x,y : x+y\n",
    "print(add(2,3))\n",
    "\n",
    "#normal function\n",
    "def add(a,b):\n",
    "  return a+b\n",
    "print(add(2,3))\n"
   ]
  },
  {
   "cell_type": "markdown",
   "metadata": {
    "id": "YmHk8OAhXGX5"
   },
   "source": [
    "## Numpy"
   ]
  },
  {
   "cell_type": "code",
   "execution_count": 24,
   "metadata": {
    "colab": {
     "base_uri": "https://localhost:8080/"
    },
    "id": "Unj3uTPAXH9X",
    "outputId": "c6fbf09d-0211-4cb6-a20b-8ebcfa10f4ef"
   },
   "outputs": [
    {
     "name": "stdout",
     "output_type": "stream",
     "text": [
      "1D array: [1 2 3 4]\n",
      "\n",
      "\n",
      "2D Array: [[1 2 3]\n",
      " [4 5 6]]\n",
      "\n",
      "\n",
      "3D Array: [[[1 2]\n",
      "  [3 4]]\n",
      "\n",
      " [[5 6]\n",
      "  [7 8]]]\n",
      "\n",
      "2D Array with reshape:\n",
      "[[ 1  2  3  4]\n",
      " [ 5  6  7  8]\n",
      " [ 9 10 11 12]]\n"
     ]
    }
   ],
   "source": [
    "# Create different types of NumPy arrays (1D, 2D, 3D).\n",
    "\n",
    "import numpy as np\n",
    "\n",
    "# 1D Array\n",
    "array1 = np.array([1,2,3,4])\n",
    "print(f\"1D array: {array1}\")\n",
    "print(\"\\n\")\n",
    "\n",
    "# 2D Array\n",
    "array2 = np.array([[1,2,3],[4,5,6]])\n",
    "print(f\"2D Array: {array2}\")\n",
    "print(\"\\n\")\n",
    "\n",
    "# 3D array\n",
    "array3 = np.array([[[1,2],[3,4]],[[5,6],[7,8]]])\n",
    "print(f\"3D Array: {array3}\")\n",
    "\n",
    "# 2D array using reshape\n",
    "array_reshaped = np.arange(1, 13).reshape(3, 4)  # 3 rows, 4 columns\n",
    "print(\"\\n2D Array with reshape:\")\n",
    "print(array_reshaped)"
   ]
  },
  {
   "cell_type": "code",
   "execution_count": 28,
   "metadata": {
    "colab": {
     "base_uri": "https://localhost:8080/"
    },
    "id": "RiWqoKL1Ym3f",
    "outputId": "9c3de226-2811-46df-d4b5-9139ad3e4bed"
   },
   "outputs": [
    {
     "name": "stdout",
     "output_type": "stream",
     "text": [
      "Addition:\n",
      "[5 7 9]\n",
      "\n",
      "Multiplication:\n",
      "[ 4 10 18]\n",
      "\n",
      "Division:\n",
      "[4.  2.5 2. ]\n"
     ]
    }
   ],
   "source": [
    "# Perform basic arithmetic operations on arrays.\n",
    "array1 = np.array([1, 2, 3])\n",
    "array2 = np.array([4, 5, 6])\n",
    "\n",
    "# Element-wise addition\n",
    "result_add = array1 + array2\n",
    "print(\"Addition:\")\n",
    "print(result_add)\n",
    "\n",
    "# Element-wise multiplication\n",
    "result_mul = array1 * array2\n",
    "print(\"\\nMultiplication:\")\n",
    "print(result_mul)\n",
    "\n",
    "\n",
    "# Element-wise division\n",
    "result_div = array2 / array1\n",
    "print(\"\\nDivision:\")\n",
    "print(result_div)"
   ]
  },
  {
   "cell_type": "code",
   "execution_count": 30,
   "metadata": {
    "colab": {
     "base_uri": "https://localhost:8080/"
    },
    "id": "xz037QnKdGaq",
    "outputId": "b90cf984-57b9-4966-a1ac-89790521a1d3"
   },
   "outputs": [
    {
     "name": "stdout",
     "output_type": "stream",
     "text": [
      "First element: 10\n",
      "Last element: 50\n",
      "\n",
      "Sliced elements (1 to 3): [20 30 40]\n",
      "Every second element: [10 30 50]\n",
      "Reversed array: [50 40 30 20 10]\n"
     ]
    }
   ],
   "source": [
    "# Use indexing and slicing to access elements.\n",
    "\n",
    "# 1D Array\n",
    "array_1d = np.array([10, 20, 30, 40, 50])\n",
    "\n",
    "# Access the first element\n",
    "print(\"First element:\", array_1d[0])\n",
    "\n",
    "# Access the last element\n",
    "print(\"Last element:\", array_1d[-1])\n",
    "\n",
    "# Slice elements from index 1 to 3 (exclusive)\n",
    "print(\"\\nSliced elements (1 to 3):\", array_1d[1:4])\n",
    "\n",
    "# Slice with a step\n",
    "print(\"Every second element:\", array_1d[::2])\n",
    "\n",
    "# Slice in reverse order\n",
    "print(\"Reversed array:\", array_1d[::-1])"
   ]
  },
  {
   "cell_type": "code",
   "execution_count": 33,
   "metadata": {
    "colab": {
     "base_uri": "https://localhost:8080/"
    },
    "id": "SXzE3jqweBwz",
    "outputId": "fac764af-8d23-4b8d-b368-954b9a7f8979"
   },
   "outputs": [
    {
     "name": "stdout",
     "output_type": "stream",
     "text": [
      "Reshaped to 2D (2x3):\n",
      " [[1 2 3]\n",
      " [4 5 6]]\n",
      "\n",
      "Reshaped to 3D (2x1x3):\n",
      " [[[1 2 3]]\n",
      "\n",
      " [[4 5 6]]]\n",
      "\n",
      "Original Matrix:\n",
      " [[1 2]\n",
      " [3 4]\n",
      " [5 6]]\n",
      "Transposed Matrix:\n",
      " [[1 3 5]\n",
      " [2 4 6]]\n",
      "Using .T attribute:\n",
      " [[1 3 5]\n",
      " [2 4 6]]\n",
      "\n",
      "Concatenated 1D Array:\n",
      " [1 2 3 4 5 6]\n",
      "\n",
      "Concatenated 2D Array (Rows):\n",
      " [[1 2]\n",
      " [3 4]\n",
      " [5 6]\n",
      " [7 8]]\n",
      "Concatenated 2D Array (Columns):\n",
      " [[1 2 5 6]\n",
      " [3 4 7 8]]\n"
     ]
    }
   ],
   "source": [
    "#Explore array manipulation functions (reshape, transpose, concatenate).\n",
    "\n",
    "import numpy as np\n",
    "\n",
    "# Create a 1D array\n",
    "array = np.array([1, 2, 3, 4, 5, 6])\n",
    "\n",
    "# Reshape to 2D (2 rows, 3 columns)\n",
    "array_2d = array.reshape(2, 3)\n",
    "print(\"Reshaped to 2D (2x3):\\n\", array_2d)\n",
    "\n",
    "# Reshape to 3D (2 layers, 1 row, 3 columns)\n",
    "array_3d = array.reshape(2, 1, 3)\n",
    "print(\"\\nReshaped to 3D (2x1x3):\\n\", array_3d)\n",
    "\n",
    "# Create a 2D array\n",
    "matrix = np.array([[1, 2], [3, 4], [5, 6]])\n",
    "\n",
    "# Transpose rows to columns\n",
    "transposed = matrix.transpose()\n",
    "print(\"\\nOriginal Matrix:\\n\", matrix)\n",
    "print(\"Transposed Matrix:\\n\", transposed)\n",
    "\n",
    "# Alternative using `.T` attribute\n",
    "print(\"Using .T attribute:\\n\", matrix.T)\n",
    "\n",
    "# Create two 1D arrays\n",
    "array1 = np.array([1, 2, 3])\n",
    "array2 = np.array([4, 5, 6])\n",
    "\n",
    "# Concatenate along axis 0 (default)\n",
    "concatenated_1d = np.concatenate((array1, array2))\n",
    "print(\"\\nConcatenated 1D Array:\\n\", concatenated_1d)\n",
    "\n",
    "# Create two 2D arrays\n",
    "array_2d_1 = np.array([[1, 2], [3, 4]])\n",
    "array_2d_2 = np.array([[5, 6], [7, 8]])\n",
    "\n",
    "# Concatenate along axis 0 (rows)\n",
    "concatenated_2d_rows = np.concatenate((array_2d_1, array_2d_2), axis=0)\n",
    "print(\"\\nConcatenated 2D Array (Rows):\\n\", concatenated_2d_rows)\n",
    "\n",
    "# Concatenate along axis 1 (columns)\n",
    "concatenated_2d_cols = np.concatenate((array_2d_1, array_2d_2), axis=1)\n",
    "print(\"Concatenated 2D Array (Columns):\\n\", concatenated_2d_cols)\n",
    "\n"
   ]
  },
  {
   "cell_type": "code",
   "execution_count": 35,
   "metadata": {
    "colab": {
     "base_uri": "https://localhost:8080/"
    },
    "id": "6zYUljM0fs1y",
    "outputId": "10927fd0-ef98-42dc-b27a-c334b07aef6b"
   },
   "outputs": [
    {
     "name": "stdout",
     "output_type": "stream",
     "text": [
      "Random Floats (Uniform [0, 1)): [0.59710516 0.99301542 0.94155374 0.87385128 0.9812067 ]\n",
      "Random Floats (Normal Distribution): [-0.1111842  -0.84919373 -0.17682347  0.71006823  0.34409061]\n",
      "Random Floats (Array 2x3):\n",
      " [[0.29328224 0.9796407  0.67912758]\n",
      " [0.08991639 0.93031041 0.0956051 ]]\n",
      "\n",
      "Random Integers [1, 10): [5 7 1 3 7]\n",
      "2D Array of Random Integers:\n",
      " [[96 12 33 88]\n",
      " [71 27 43 93]\n",
      " [24 83 71 60]]\n"
     ]
    }
   ],
   "source": [
    "# Create and use NumPy random number generators.\n",
    "import numpy as np\n",
    "\n",
    "# Uniform distribution [0, 1)\n",
    "random_floats = np.random.rand(5)  # Generate 5 random floats\n",
    "print(\"Random Floats (Uniform [0, 1)):\", random_floats)\n",
    "\n",
    "# Normal distribution (mean=0, std=1)\n",
    "random_normals = np.random.randn(5)  # Generate 5 random values from normal distribution\n",
    "print(\"Random Floats (Normal Distribution):\", random_normals)\n",
    "\n",
    "# Random floats using random_sample\n",
    "random_samples = np.random.random_sample((2, 3))  # 2x3 array of random floats\n",
    "print(\"Random Floats (Array 2x3):\\n\", random_samples)\n",
    "\n",
    "\n",
    "# Random integers between 1 (inclusive) and 10 (exclusive)\n",
    "random_integers = np.random.randint(1, 10, size=5)\n",
    "print(\"\\nRandom Integers [1, 10):\", random_integers)\n",
    "\n",
    "# 2D array of random integers\n",
    "random_int_array = np.random.randint(1, 100, size=(3, 4))\n",
    "print(\"2D Array of Random Integers:\\n\", random_int_array)\n"
   ]
  },
  {
   "cell_type": "markdown",
   "metadata": {
    "id": "YY2PbDcbgdVW"
   },
   "source": [
    "## Pandas"
   ]
  },
  {
   "cell_type": "code",
   "execution_count": 39,
   "metadata": {
    "colab": {
     "base_uri": "https://localhost:8080/"
    },
    "id": "75OUYPipgejQ",
    "outputId": "139cf5cb-1229-4292-8501-cb9b2ce68414"
   },
   "outputs": [
    {
     "name": "stdout",
     "output_type": "stream",
     "text": [
      "Series from List:\n",
      " 0    10\n",
      "1    20\n",
      "2    30\n",
      "3    40\n",
      "4    50\n",
      "dtype: int64\n",
      "\n",
      "DataFrame from Dictionary:\n",
      "       Name  Age  Salary\n",
      "0    Alice   25   50000\n",
      "1      Bob   30   60000\n",
      "2  Charlie   35   70000\n",
      "\n",
      "DataFrame from List of Lists:\n",
      "       Name  Age  Salary\n",
      "0    Alice   25   50000\n",
      "1      Bob   30   60000\n",
      "2  Charlie   35   70000\n",
      "\n",
      "DataFrame from Numpy Array:\n",
      "        Col1      Col2      Col3\n",
      "0  0.712304  0.144397  0.254091\n",
      "1  0.283265  0.313518  0.220760\n",
      "2  0.364333  0.376149  0.707681\n"
     ]
    }
   ],
   "source": [
    "# Create Pandas Series and DataFrames.\n",
    "import pandas as pd\n",
    "\n",
    "# Creating a Series from a list\n",
    "data_list = [10, 20, 30, 40, 50]\n",
    "series_from_list = pd.Series(data_list)\n",
    "print(\"Series from List:\\n\", series_from_list)\n",
    "\n",
    "# Creating a DataFrame from a dictionary\n",
    "data_dict = {\n",
    "    'Name': ['Alice', 'Bob', 'Charlie'],\n",
    "    'Age': [25, 30, 35],\n",
    "    'Salary': [50000, 60000, 70000]\n",
    "}\n",
    "df_from_dict = pd.DataFrame(data_dict)\n",
    "print(\"\\nDataFrame from Dictionary:\\n\", df_from_dict)\n",
    "\n",
    "# Creating a DataFrame from a list of lists\n",
    "data_list = [\n",
    "    ['Alice', 25, 50000],\n",
    "    ['Bob', 30, 60000],\n",
    "    ['Charlie', 35, 70000]\n",
    "]\n",
    "df_from_list = pd.DataFrame(data_list, columns=['Name', 'Age', 'Salary'])\n",
    "print(\"\\nDataFrame from List of Lists:\\n\", df_from_list)\n",
    "\n",
    "import numpy as np\n",
    "\n",
    "# Creating a DataFrame from a numpy array\n",
    "array_data = np.random.rand(3, 3)\n",
    "df_from_array = pd.DataFrame(array_data, columns=['Col1', 'Col2', 'Col3'])\n",
    "print(\"\\nDataFrame from Numpy Array:\\n\", df_from_array)\n",
    "\n"
   ]
  },
  {
   "cell_type": "code",
   "execution_count": 2,
   "metadata": {
    "id": "tgW8tVRzks9B"
   },
   "outputs": [
    {
     "name": "stdout",
     "output_type": "stream",
     "text": [
      "DataFrame from CSV:\n",
      "                                               source  \\\n",
      "0                   {'id': 'wired', 'name': 'Wired'}   \n",
      "1                   {'id': 'wired', 'name': 'Wired'}   \n",
      "2                   {'id': 'wired', 'name': 'Wired'}   \n",
      "3        {'id': None, 'name': 'Yahoo Entertainment'}   \n",
      "4           {'id': 'the-verge', 'name': 'The Verge'}   \n",
      "..                                               ...   \n",
      "75             {'id': None, 'name': 'Science Daily'}   \n",
      "76             {'id': None, 'name': 'Johnhawks.net'}   \n",
      "77                  {'id': None, 'name': 'BBC News'}   \n",
      "78  {'id': 'new-scientist', 'name': 'New Scientist'}   \n",
      "79               {'id': None, 'name': 'Wikihow.com'}   \n",
      "\n",
      "                      author  \\\n",
      "0                Steven Levy   \n",
      "1                Will Knight   \n",
      "2              David Gilbert   \n",
      "3              Lawrence Bonk   \n",
      "4                  Emma Roth   \n",
      "..                       ...   \n",
      "75                       NaN   \n",
      "76                John Hawks   \n",
      "77                       NaN   \n",
      "78       Chris Stokel-Walker   \n",
      "79  Allison Broennimann, PhD   \n",
      "\n",
      "                                                title  \\\n",
      "0   Don’t Let Mistrust of Tech Companies Blind You...   \n",
      "1     OpenAI Offers a Peek Inside the Guts of ChatGPT   \n",
      "2                          Neo-Nazis Are All-In On AI   \n",
      "3   Nokia just made the first phone call using 3D ...   \n",
      "4              Elon Musk drops lawsuit against OpenAI   \n",
      "..                                                ...   \n",
      "75  New study challenges 'pop psychology' myths ab...   \n",
      "76  The \"blooming, buzzing confusion\" of William J...   \n",
      "77  Analysis: Where the Salford scrap leaves Starm...   \n",
      "78  University examiners fail to spot ChatGPT answ...   \n",
      "79                 How to Enjoy Your Early Teen Years   \n",
      "\n",
      "                                          description  \\\n",
      "0   It’s OK to be doubtful of tech leaders’ grandi...   \n",
      "1   Days after former employees said the company w...   \n",
      "2   Extremists are developing their own hateful AI...   \n",
      "3   Nokia just announced that it has made the firs...   \n",
      "4   Elon Musk was suing ChatGPT maker OpenAI and i...   \n",
      "..                                                ...   \n",
      "75  By ditching 'pop psychology myths' about habit...   \n",
      "76  I investigate the origin of a well-known quote...   \n",
      "77  Political editor Chris Mason reflects on a tet...   \n",
      "78  ChatGPT-written exam submissions for a psychol...   \n",
      "79  The early teen years mark the start of high sc...   \n",
      "\n",
      "                                                  url  \\\n",
      "0   https://www.wired.com/story/dont-let-mistrust-...   \n",
      "1   https://www.wired.com/story/openai-offers-a-pe...   \n",
      "2   https://www.wired.com/story/neo-nazis-are-all-...   \n",
      "3   https://consent.yahoo.com/v2/collectConsent?se...   \n",
      "4   https://www.theverge.com/2024/6/11/24176462/el...   \n",
      "..                                                ...   \n",
      "75  https://www.sciencedaily.com/releases/2024/06/...   \n",
      "76  https://johnhawks.net/weblog/the-blooming-buzz...   \n",
      "77     https://www.bbc.com/news/articles/cmjjzxg7k6no   \n",
      "78  https://www.newscientist.com/article/2436888-u...   \n",
      "79  https://www.wikihow.com/Enjoy-Your-Early-Teen-...   \n",
      "\n",
      "                                           urlToImage           publishedAt  \\\n",
      "0   https://media.wired.com/photos/66625436bd6c904...  2024-06-07T13:00:00Z   \n",
      "1   https://media.wired.com/photos/6661d484e7f0257...  2024-06-06T17:45:55Z   \n",
      "2   https://media.wired.com/photos/667211650f046d6...  2024-06-20T09:00:00Z   \n",
      "3                                                 NaN  2024-06-10T16:50:43Z   \n",
      "4   https://cdn.vox-cdn.com/thumbor/qhhAPf5iS_vHpw...  2024-06-11T21:29:42Z   \n",
      "..                                                ...                   ...   \n",
      "75  https://www.sciencedaily.com/images/scidaily-i...  2024-06-06T19:23:43Z   \n",
      "76  https://images.unsplash.com/photo-152449218889...  2024-06-12T17:56:20Z   \n",
      "77  https://ichef.bbci.co.uk/news/1024/branded_new...  2024-06-05T03:43:24Z   \n",
      "78  https://images.newscientist.com/wp-content/upl...  2024-06-26T19:00:55Z   \n",
      "79  https://www.wikihow.com/images/1/14/LR23-D-Ami...  2024-06-22T08:00:00Z   \n",
      "\n",
      "                                              content       topic  \n",
      "0   It seems evident to me that almost 70 years af...  technology  \n",
      "1   ChatGPT developer OpenAIs approach to building...  technology  \n",
      "2   Extremists across the US have weaponized artif...  technology  \n",
      "3   If you click 'Accept all', we and our partners...  technology  \n",
      "4   Elon Musk drops lawsuit against OpenAI\\r\\nElon...  technology  \n",
      "..                                                ...         ...  \n",
      "75  By ditching 'pop psychology myths' about habit...  psychology  \n",
      "76  I ran across a heavily used quote by William J...  psychology  \n",
      "77  Chris Mason,Political editor, @ChrisMasonBBC\\r...  psychology  \n",
      "78  Exams taken in person make it harder for stude...  psychology  \n",
      "79  This article was co-authored by Allison Broenn...  psychology  \n",
      "\n",
      "[80 rows x 9 columns]\n"
     ]
    }
   ],
   "source": [
    "# Load data from various file formats (CSV, Excel, etc.).\n",
    "import pandas as pd\n",
    "\n",
    "# Load CSV file\n",
    "csv_df = pd.read_csv('news_raw_data.csv')\n",
    "print(\"DataFrame from CSV:\\n\", csv_df)\n"
   ]
  },
  {
   "cell_type": "code",
   "execution_count": 4,
   "metadata": {},
   "outputs": [
    {
     "name": "stdout",
     "output_type": "stream",
     "text": [
      "Collecting openpyxl\n",
      "  Downloading openpyxl-3.1.5-py2.py3-none-any.whl.metadata (2.5 kB)\n",
      "Collecting et-xmlfile (from openpyxl)\n",
      "  Downloading et_xmlfile-2.0.0-py3-none-any.whl.metadata (2.7 kB)\n",
      "Downloading openpyxl-3.1.5-py2.py3-none-any.whl (250 kB)\n",
      "Downloading et_xmlfile-2.0.0-py3-none-any.whl (18 kB)\n",
      "\u001b[33mWARNING: Error parsing dependencies of bleach: Expected matching RIGHT_PARENTHESIS for LEFT_PARENTHESIS, after version specifier\n",
      "    tinycss2 (>=1.1.0<1.2) ; extra == 'css'\n",
      "             ~~~~~~~~^\u001b[0m\u001b[33m\n",
      "\u001b[0mInstalling collected packages: et-xmlfile, openpyxl\n",
      "Successfully installed et-xmlfile-2.0.0 openpyxl-3.1.5\n",
      "\n",
      "\u001b[1m[\u001b[0m\u001b[34;49mnotice\u001b[0m\u001b[1;39;49m]\u001b[0m\u001b[39;49m A new release of pip is available: \u001b[0m\u001b[31;49m24.2\u001b[0m\u001b[39;49m -> \u001b[0m\u001b[32;49m24.3.1\u001b[0m\n",
      "\u001b[1m[\u001b[0m\u001b[34;49mnotice\u001b[0m\u001b[1;39;49m]\u001b[0m\u001b[39;49m To update, run: \u001b[0m\u001b[32;49mpip install --upgrade pip\u001b[0m\n"
     ]
    }
   ],
   "source": [
    "!pip install openpyxl"
   ]
  },
  {
   "cell_type": "code",
   "execution_count": 5,
   "metadata": {},
   "outputs": [
    {
     "name": "stdout",
     "output_type": "stream",
     "text": [
      "\n",
      "DataFrame from Excel:\n",
      " Empty DataFrame\n",
      "Columns: []\n",
      "Index: []\n"
     ]
    }
   ],
   "source": [
    "# Load Excel file\n",
    "excel_df = pd.read_excel('Book1.xlsx')\n",
    "print(\"\\nDataFrame from Excel:\\n\", excel_df)"
   ]
  },
  {
   "cell_type": "code",
   "execution_count": 7,
   "metadata": {},
   "outputs": [
    {
     "name": "stdout",
     "output_type": "stream",
     "text": [
      "\n",
      "DataFrame from JSON:\n",
      "       Name  Age  Salary\n",
      "0    Alice   25   50000\n",
      "1      Bob   30   60000\n",
      "2  Charlie   35   70000\n"
     ]
    }
   ],
   "source": [
    "# Load JSON file\n",
    "json_df = pd.read_json('raw_json.json')\n",
    "print(\"\\nDataFrame from JSON:\\n\", json_df)"
   ]
  },
  {
   "cell_type": "markdown",
   "metadata": {},
   "source": [
    "## If Statements"
   ]
  },
  {
   "cell_type": "code",
   "execution_count": 8,
   "metadata": {},
   "outputs": [
    {
     "name": "stdout",
     "output_type": "stream",
     "text": [
      "Grade: B\n"
     ]
    }
   ],
   "source": [
    "# Demonstrate conditional logic using if, else, and elif statements.\n",
    "\n",
    "# Grade classification with additional condition\n",
    "score = 85\n",
    "\n",
    "if score >= 90:\n",
    "    print(\"Grade: A\")\n",
    "else:\n",
    "    if score >= 80:\n",
    "        print(\"Grade: B\")\n",
    "    else:\n",
    "        print(\"Grade: C\")\n",
    "        \n",
    "        \n"
   ]
  },
  {
   "cell_type": "code",
   "execution_count": 9,
   "metadata": {},
   "outputs": [
    {
     "name": "stdout",
     "output_type": "stream",
     "text": [
      "2024 is a leap year.\n"
     ]
    }
   ],
   "source": [
    "# Determine if a year is a leap year\n",
    "year = 2024\n",
    "\n",
    "if (year % 4 == 0 and year % 100 != 0) or (year % 400 == 0):\n",
    "    print(f\"{year} is a leap year.\")\n",
    "else:\n",
    "    print(f\"{year} is not a leap year.\")\n"
   ]
  },
  {
   "cell_type": "code",
   "execution_count": 10,
   "metadata": {},
   "outputs": [
    {
     "name": "stdout",
     "output_type": "stream",
     "text": [
      "Enter a number: 5\n",
      "The number is positive.\n"
     ]
    }
   ],
   "source": [
    "# Ask for user input and provide feedback\n",
    "user_input = input(\"Enter a number: \")\n",
    "number = int(user_input)\n",
    "\n",
    "if number > 0:\n",
    "    print(\"The number is positive.\")\n",
    "elif number < 0:\n",
    "    print(\"The number is negative.\")\n",
    "else:\n",
    "    print(\"The number is zero.\")\n"
   ]
  },
  {
   "cell_type": "code",
   "execution_count": 11,
   "metadata": {},
   "outputs": [
    {
     "name": "stdout",
     "output_type": "stream",
     "text": [
      "The triangle is isosceles.\n"
     ]
    }
   ],
   "source": [
    "# Check the type of triangle based on side lengths\n",
    "a, b, c = 5, 5, 8\n",
    "\n",
    "if a == b == c:\n",
    "    print(\"The triangle is equilateral.\")\n",
    "elif a == b or b == c or a == c:\n",
    "    print(\"The triangle is isosceles.\")\n",
    "else:\n",
    "    print(\"The triangle is scalene.\")\n"
   ]
  },
  {
   "cell_type": "code",
   "execution_count": 12,
   "metadata": {},
   "outputs": [
    {
     "name": "stdout",
     "output_type": "stream",
     "text": [
      "Eligible for a scholarship.\n"
     ]
    }
   ],
   "source": [
    "# Create complex conditional expressions.\n",
    "\n",
    "# Determine a student’s scholarship eligibility\n",
    "gpa = 3.8\n",
    "extracurriculars = True\n",
    "volunteer_hours = 50\n",
    "\n",
    "if gpa >= 3.5:\n",
    "    if extracurriculars or volunteer_hours >= 40:\n",
    "        print(\"Eligible for a scholarship.\")\n",
    "    else:\n",
    "        print(\"Not eligible for a scholarship due to insufficient activities.\")\n",
    "else:\n",
    "    print(\"Not eligible for a scholarship due to low GPA.\")\n"
   ]
  },
  {
   "cell_type": "code",
   "execution_count": 13,
   "metadata": {},
   "outputs": [
    {
     "name": "stdout",
     "output_type": "stream",
     "text": [
      "Application approved.\n"
     ]
    }
   ],
   "source": [
    "# Evaluate job application criteria\n",
    "\n",
    "application = {\n",
    "    \"education\": \"Bachelor's\",\n",
    "    \"experience_years\": 5,\n",
    "    \"skills\": [\"Python\", \"Machine Learning\", \"SQL\"]\n",
    "}\n",
    "\n",
    "if application[\"education\"] in [\"Bachelor's\", \"Master's\"] and application[\"experience_years\"] >= 3:\n",
    "    if \"Python\" in application[\"skills\"] and \"SQL\" in application[\"skills\"]:\n",
    "        print(\"Application approved.\")\n",
    "    else:\n",
    "        print(\"Missing required skills.\")\n",
    "else:\n",
    "    print(\"Does not meet education or experience requirements.\")\n"
   ]
  },
  {
   "cell_type": "code",
   "execution_count": 14,
   "metadata": {},
   "outputs": [
    {
     "name": "stdout",
     "output_type": "stream",
     "text": [
      "The number is in the range 41-60.\n"
     ]
    }
   ],
   "source": [
    "# Categorize a number into different ranges\n",
    "number = 45\n",
    "\n",
    "if 0 <= number <= 20:\n",
    "    print(\"The number is in the range 0-20.\")\n",
    "elif 21 <= number <= 40:\n",
    "    print(\"The number is in the range 21-40.\")\n",
    "elif 41 <= number <= 60:\n",
    "    print(\"The number is in the range 41-60.\")\n",
    "else:\n",
    "    print(\"The number is out of range.\")\n"
   ]
  },
  {
   "cell_type": "code",
   "execution_count": 15,
   "metadata": {},
   "outputs": [
    {
     "name": "stdout",
     "output_type": "stream",
     "text": [
      "You are eligible to vote.\n"
     ]
    }
   ],
   "source": [
    "# Implement nested if statements.\n",
    "age = 25\n",
    "citizenship = \"Canada\"\n",
    "criminal_record = False\n",
    "\n",
    "if age >= 18:\n",
    "    if citizenship == \"Canada\":\n",
    "        if not criminal_record:\n",
    "            print(\"You are eligible to vote.\")\n",
    "        else:\n",
    "            print(\"You are not eligible due to a criminal record.\")\n",
    "    else:\n",
    "        print(\"You must be a citizen of Canada to vote.\")\n",
    "else:\n",
    "    print(\"You are not old enough to vote.\")\n"
   ]
  },
  {
   "cell_type": "code",
   "execution_count": 16,
   "metadata": {},
   "outputs": [
    {
     "name": "stdout",
     "output_type": "stream",
     "text": [
      "You passed.\n",
      "Grade: B\n"
     ]
    }
   ],
   "source": [
    "score = 85\n",
    "\n",
    "if score >= 50:\n",
    "    print(\"You passed.\")\n",
    "    if score >= 90:\n",
    "        print(\"Grade: A\")\n",
    "    elif score >= 80:\n",
    "        print(\"Grade: B\")\n",
    "    elif score >= 70:\n",
    "        print(\"Grade: C\")\n",
    "    else:\n",
    "        print(\"Grade: D\")\n",
    "else:\n",
    "    print(\"You failed.\")\n"
   ]
  },
  {
   "cell_type": "markdown",
   "metadata": {},
   "source": [
    "## Loops"
   ]
  },
  {
   "cell_type": "code",
   "execution_count": 23,
   "metadata": {},
   "outputs": [
    {
     "name": "stdout",
     "output_type": "stream",
     "text": [
      "apple\n",
      "banana\n",
      "cherry\n",
      "date\n",
      "\n",
      "\n",
      "red\n",
      "green\n",
      "blue\n",
      "yellow\n",
      "\n",
      "\n",
      "Alice\n",
      "Bob\n",
      "Charlie\n",
      "85\n",
      "90\n",
      "78\n",
      "Alice scored 85\n",
      "Bob scored 90\n",
      "Charlie scored 78\n"
     ]
    }
   ],
   "source": [
    "# Use for loops to iterate over sequences\n",
    "\n",
    "fruits = [\"apple\", \"banana\", \"cherry\", \"date\"]\n",
    "\n",
    "for i in fruits:\n",
    "    print(i)\n",
    "print(\"\\n\")    \n",
    "colors = (\"red\", \"green\", \"blue\", \"yellow\")\n",
    "\n",
    "# Using for loop to iterate over a tuple\n",
    "for color in colors:\n",
    "    print(color)\n",
    "print(\"\\n\")\n",
    "\n",
    "student_scores = {\n",
    "    \"Alice\": 85,\n",
    "    \"Bob\": 90,\n",
    "    \"Charlie\": 78\n",
    "}\n",
    "\n",
    "# Iterate over dictionary keys\n",
    "for student in student_scores:\n",
    "    print(student)\n",
    "\n",
    "# Iterate over dictionary values\n",
    "for score in student_scores.values():\n",
    "    print(score)\n",
    "\n",
    "# Iterate over both keys and values\n",
    "for student, score in student_scores.items():\n",
    "    print(f\"{student} scored {score}\")\n",
    "\n",
    "    "
   ]
  },
  {
   "cell_type": "code",
   "execution_count": 26,
   "metadata": {},
   "outputs": [
    {
     "name": "stdout",
     "output_type": "stream",
     "text": [
      "1\n",
      "2\n",
      "3\n",
      "4\n"
     ]
    }
   ],
   "source": [
    "# Employ while loops for indefinite iteration.\n",
    "\n",
    "i = 1\n",
    "while i < 5:\n",
    "    print(i)\n",
    "    i +=1"
   ]
  },
  {
   "cell_type": "code",
   "execution_count": 27,
   "metadata": {},
   "outputs": [
    {
     "name": "stdout",
     "output_type": "stream",
     "text": [
      "Enter 'exit' to stop the loop: exit\n"
     ]
    }
   ],
   "source": [
    "while True:\n",
    "    user_input = input(\"Enter 'exit' to stop the loop: \")\n",
    "    if user_input.lower() == 'exit':\n",
    "        break\n"
   ]
  },
  {
   "cell_type": "code",
   "execution_count": 29,
   "metadata": {},
   "outputs": [
    {
     "name": "stdout",
     "output_type": "stream",
     "text": [
      "Enter your age: 17\n",
      "You are not eligible. Try again.\n",
      "Enter your age: 19\n",
      "You are eligible.\n"
     ]
    }
   ],
   "source": [
    "valid_input = False\n",
    "\n",
    "while not valid_input:\n",
    "    user_age = int(input(\"Enter your age: \"))\n",
    "    if user_age >= 18:\n",
    "        print(\"You are eligible.\")\n",
    "        valid_input = True\n",
    "    else:\n",
    "        print(\"You are not eligible. Try again.\")\n"
   ]
  },
  {
   "cell_type": "code",
   "execution_count": 31,
   "metadata": {},
   "outputs": [
    {
     "name": "stdout",
     "output_type": "stream",
     "text": [
      "1 x 1 = 1\t1 x 2 = 2\t1 x 3 = 3\t1 x 4 = 4\t1 x 5 = 5\t\n",
      "2 x 1 = 2\t2 x 2 = 4\t2 x 3 = 6\t2 x 4 = 8\t2 x 5 = 10\t\n",
      "3 x 1 = 3\t3 x 2 = 6\t3 x 3 = 9\t3 x 4 = 12\t3 x 5 = 15\t\n",
      "4 x 1 = 4\t4 x 2 = 8\t4 x 3 = 12\t4 x 4 = 16\t4 x 5 = 20\t\n",
      "5 x 1 = 5\t5 x 2 = 10\t5 x 3 = 15\t5 x 4 = 20\t5 x 5 = 25\t\n"
     ]
    }
   ],
   "source": [
    "# Implement nested loops.\n",
    "\n",
    "# Multiplication table using nested loops\n",
    "for i in range(1, 6):  # Outer loop for rows (1-5)\n",
    "    for j in range(1, 6):  # Inner loop for columns (1-5)\n",
    "        print(f\"{i} x {j} = {i * j}\", end=\"\\t\")\n",
    "    print()  # Move to the next line after each row\n"
   ]
  },
  {
   "cell_type": "code",
   "execution_count": 35,
   "metadata": {},
   "outputs": [
    {
     "name": "stdout",
     "output_type": "stream",
     "text": [
      "* \n",
      "\n",
      "* * \n",
      "\n",
      "* * * \n",
      "\n",
      "* * * * \n",
      "\n",
      "* * * * * \n",
      "\n"
     ]
    }
   ],
   "source": [
    "# Printing a triangle pattern using nested while loops\n",
    "rows = 5  # Number of rows\n",
    "i = 1\n",
    "while i <= rows:  # Outer loop for rows\n",
    "    j = 1\n",
    "    while j <= i:  # Inner loop for columns\n",
    "        print(\"*\", end=\" \")\n",
    "        j += 1\n",
    "    print(\"\\n\")    \n",
    "    #print()  # Move to the next line after each row\n",
    "    i += 1\n"
   ]
  },
  {
   "cell_type": "code",
   "execution_count": 36,
   "metadata": {},
   "outputs": [
    {
     "name": "stdout",
     "output_type": "stream",
     "text": [
      "Checking Target 5.. \n",
      "Checking Target 8.. \n",
      "Checking Target 12.. \n",
      "Checking Target 15.. \n",
      "target found\n"
     ]
    }
   ],
   "source": [
    "# Utilize break and continue statements.\n",
    "\n",
    "# Example: Use break to stop the loop when a specific number is found\n",
    "numbers = [5, 8, 12, 15, 20, 25, 30]\n",
    "target = 20\n",
    "\n",
    "for i in numbers:\n",
    "    if i == target:\n",
    "        print(\"target found\")\n",
    "        break\n",
    "    print(f\"Checking Target {i}.. \")    \n",
    "        "
   ]
  },
  {
   "cell_type": "code",
   "execution_count": 37,
   "metadata": {},
   "outputs": [
    {
     "name": "stdout",
     "output_type": "stream",
     "text": [
      "odd number 1..\n",
      "odd number 3..\n",
      "odd number 5..\n",
      "odd number 7..\n",
      "odd number 9..\n"
     ]
    }
   ],
   "source": [
    "# Example: Use continue to skip even numbers\n",
    "numbers = [1, 2, 3, 4, 5, 6, 7, 8, 9]\n",
    "\n",
    "for i in numbers:\n",
    "    if i%2==0:\n",
    "        continue\n",
    "    print(f\"odd number {i}..\")    "
   ]
  },
  {
   "cell_type": "markdown",
   "metadata": {},
   "source": [
    "## Lists, Tuples, Sets, Dictionaries"
   ]
  },
  {
   "cell_type": "code",
   "execution_count": 39,
   "metadata": {},
   "outputs": [
    {
     "name": "stdout",
     "output_type": "stream",
     "text": [
      "[1, 2, 3, 4, 5, 'Hello', 3.14]\n",
      "[1, 2, 3, 4, 5, 'Hello', 3.14, 'World']\n",
      "[1, 2, 'Inserted', 3, 4, 5, 'Hello', 3.14, 'World']\n"
     ]
    }
   ],
   "source": [
    "# Create and manipulate lists, tuples, sets, and dictionaries.\n",
    "\n",
    "# List\n",
    "\n",
    "# Creating a list with different data types\n",
    "my_list = [1, 2, 3, 4, 5, \"Hello\", 3.14]\n",
    "print(my_list)\n",
    "\n",
    "my_list.append(\"World\")  # Adds \"World\" to the end of the list\n",
    "print(my_list)\n",
    "\n",
    "my_list.insert(2, \"Inserted\")  # Inserts \"Inserted\" at index 2\n",
    "print(my_list)\n",
    "\n"
   ]
  },
  {
   "cell_type": "code",
   "execution_count": 40,
   "metadata": {},
   "outputs": [
    {
     "name": "stdout",
     "output_type": "stream",
     "text": [
      "(1, 2, 3, 4, 5)\n",
      "2\n"
     ]
    }
   ],
   "source": [
    "# Tuple (Immutable)\n",
    "my_tuple = (1, 2, 3, 4, 5)\n",
    "print(my_tuple)\n",
    "\n",
    "print(my_tuple[1])  # Access element at index 1\n"
   ]
  },
  {
   "cell_type": "code",
   "execution_count": 42,
   "metadata": {},
   "outputs": [
    {
     "name": "stdout",
     "output_type": "stream",
     "text": [
      "{1, 2, 3, 4, 5}\n",
      "{1, 2, 3, 4, 5, 6}\n",
      "{1, 2, 3, 4, 5, 6, 7, 8, 9}\n"
     ]
    }
   ],
   "source": [
    "# Set (Unique)\n",
    "\n",
    "my_set = {1, 2, 3, 4, 5,5}\n",
    "print(my_set)\n",
    "\n",
    "my_set.add(6)  # Adds 6 to the set\n",
    "print(my_set)\n",
    "\n",
    "my_set.update([7, 8, 9])  # Adds multiple elements\n",
    "print(my_set)\n"
   ]
  },
  {
   "cell_type": "code",
   "execution_count": 46,
   "metadata": {},
   "outputs": [
    {
     "name": "stdout",
     "output_type": "stream",
     "text": [
      "{'name': 'Alice', 'age': 25, 'city': 'New York'}\n",
      "dict_keys(['name', 'age', 'city'])\n",
      "dict_values(['Alice', 25, 'New York'])\n",
      "dict_items([('name', 'Alice'), ('age', 25), ('city', 'New York')])\n",
      "{'name': 'Alice', 'age': 25}\n",
      "Popped value: Alice\n",
      "{'age': 25}\n",
      "25\n",
      "Alice\n"
     ]
    }
   ],
   "source": [
    "# Dictonaries\n",
    "my_dict = {\"name\": \"Alice\", \"age\": 25, \"city\": \"New York\"}\n",
    "print(my_dict)\n",
    "\n",
    "keys = my_dict.keys()  # Get all keys\n",
    "print(keys)\n",
    "\n",
    "values = my_dict.values()  # Get all values\n",
    "print(values)\n",
    "\n",
    "items = my_dict.items()  # Get all key-value pairs\n",
    "print(items)\n",
    "\n",
    "del my_dict[\"city\"]  # Removes the key \"city\" and its value\n",
    "print(my_dict)\n",
    "\n",
    "popped_value = my_dict.pop(\"name\")  # Removes \"name\" and returns its value\n",
    "print(f\"Popped value: {popped_value}\")\n",
    "print(my_dict)\n",
    "\n",
    "\n",
    "age = my_dict.get(\"age\", \"Not Found\")  # Retrieve value with a fallback default\n",
    "print(age)\n",
    "\n",
    "\n",
    "nested_dict = {\n",
    "    \"person1\": {\"name\": \"Alice\", \"age\": 25},\n",
    "    \"person2\": {\"name\": \"Bob\", \"age\": 30}\n",
    "}\n",
    "\n",
    "print(nested_dict[\"person1\"][\"name\"])  # Access \"Alice\" inside nested dict\n",
    "\n"
   ]
  },
  {
   "cell_type": "markdown",
   "metadata": {},
   "source": [
    "## Operators"
   ]
  },
  {
   "cell_type": "code",
   "execution_count": 47,
   "metadata": {},
   "outputs": [
    {
     "name": "stdout",
     "output_type": "stream",
     "text": [
      "a + b = 15\n",
      "a - b = 5\n",
      "a * b = 50\n",
      "a / b = 2.0\n",
      "a // b = 2\n",
      "a % b = 0\n",
      "a ** b = 100000\n"
     ]
    }
   ],
   "source": [
    "# Use arithmetic, comparison, logical, and assignment operators.\n",
    "\n",
    "a = 10\n",
    "b = 5\n",
    "\n",
    "# Addition\n",
    "print(f\"a + b = {a + b}\")  # 15\n",
    "\n",
    "# Subtraction\n",
    "print(f\"a - b = {a - b}\")  # 5\n",
    "\n",
    "# Multiplication\n",
    "print(f\"a * b = {a * b}\")  # 50\n",
    "\n",
    "# Division\n",
    "print(f\"a / b = {a / b}\")  # 2.0\n",
    "\n",
    "# Floor Division\n",
    "print(f\"a // b = {a // b}\")  # 2\n",
    "\n",
    "# Modulo\n",
    "print(f\"a % b = {a % b}\")  # 0\n",
    "\n",
    "# Exponentiation\n",
    "print(f\"a ** b = {a ** b}\")  # 100000\n"
   ]
  },
  {
   "cell_type": "code",
   "execution_count": 48,
   "metadata": {},
   "outputs": [
    {
     "name": "stdout",
     "output_type": "stream",
     "text": [
      "x == y: False\n",
      "x != y: True\n",
      "x > y: True\n",
      "x < y: False\n",
      "x >= y: True\n",
      "x <= y: False\n"
     ]
    }
   ],
   "source": [
    "x = 10\n",
    "y = 5\n",
    "\n",
    "# Equal to\n",
    "print(f\"x == y: {x == y}\")  # False\n",
    "\n",
    "# Not equal to\n",
    "print(f\"x != y: {x != y}\")  # True\n",
    "\n",
    "# Greater than\n",
    "print(f\"x > y: {x > y}\")  # True\n",
    "\n",
    "# Less than\n",
    "print(f\"x < y: {x < y}\")  # False\n",
    "\n",
    "# Greater than or equal to\n",
    "print(f\"x >= y: {x >= y}\")  # True\n",
    "\n",
    "# Less than or equal to\n",
    "print(f\"x <= y: {x <= y}\")  # False\n"
   ]
  },
  {
   "cell_type": "code",
   "execution_count": 49,
   "metadata": {},
   "outputs": [
    {
     "name": "stdout",
     "output_type": "stream",
     "text": [
      "a and b: False\n",
      "a or b: True\n",
      "not a: False\n",
      "not b: True\n"
     ]
    }
   ],
   "source": [
    "a = True\n",
    "b = False\n",
    "\n",
    "# and operator\n",
    "print(f\"a and b: {a and b}\")  # False\n",
    "\n",
    "# or operator\n",
    "print(f\"a or b: {a or b}\")  # True\n",
    "\n",
    "# not operator\n",
    "print(f\"not a: {not a}\")  # False\n",
    "print(f\"not b: {not b}\")  # True\n"
   ]
  },
  {
   "cell_type": "code",
   "execution_count": 50,
   "metadata": {},
   "outputs": [
    {
     "name": "stdout",
     "output_type": "stream",
     "text": [
      "x = 5\n",
      "x += 3: 8\n",
      "x -= 2: 6\n",
      "x *= 4: 24\n",
      "x /= 6: 4.0\n",
      "x //= 2: 2.0\n",
      "x %= 2: 0.0\n",
      "x **= 3: 125\n"
     ]
    }
   ],
   "source": [
    "x = 10\n",
    "\n",
    "# Assign value\n",
    "x = 5\n",
    "print(f\"x = {x}\")  # 5\n",
    "\n",
    "# Add and assign\n",
    "x += 3  # Equivalent to x = x + 3\n",
    "print(f\"x += 3: {x}\")  # 8\n",
    "\n",
    "# Subtract and assign\n",
    "x -= 2  # Equivalent to x = x - 2\n",
    "print(f\"x -= 2: {x}\")  # 6\n",
    "\n",
    "# Multiply and assign\n",
    "x *= 4  # Equivalent to x = x * 4\n",
    "print(f\"x *= 4: {x}\")  # 24\n",
    "\n",
    "# Divide and assign\n",
    "x /= 6  # Equivalent to x = x / 6\n",
    "print(f\"x /= 6: {x}\")  # 4.0\n",
    "\n",
    "# Floor divide and assign\n",
    "x //= 2  # Equivalent to x = x // 2\n",
    "print(f\"x //= 2: {x}\")  # 2\n",
    "\n",
    "# Modulo and assign\n",
    "x %= 2  # Equivalent to x = x % 2\n",
    "print(f\"x %= 2: {x}\")  # 0\n",
    "\n",
    "# Exponentiate and assign\n",
    "x = 5\n",
    "x **= 3  # Equivalent to x = x ** 3\n",
    "print(f\"x **= 3: {x}\")  # 125\n"
   ]
  },
  {
   "cell_type": "code",
   "execution_count": 51,
   "metadata": {},
   "outputs": [
    {
     "name": "stdout",
     "output_type": "stream",
     "text": [
      "21.0\n"
     ]
    }
   ],
   "source": [
    "# Understand operator precedence.\n",
    "x = (5 + 2) * (3 ** 2) / (4 - 1)\n",
    "print(x)\n"
   ]
  },
  {
   "cell_type": "markdown",
   "metadata": {},
   "source": [
    "Parentheses () are evaluated first:\n",
    "\n",
    "5 + 2 = 7\n",
    "3 ** 2 = 9\n",
    "4 - 1 = 3\n",
    "Expression becomes: 7 * 9 / 3\n",
    "Then, multiplication and division are evaluated from left to right:\n",
    "\n",
    "7 * 9 = 63\n",
    "63 / 3 = 21"
   ]
  },
  {
   "cell_type": "code",
   "execution_count": null,
   "metadata": {},
   "outputs": [],
   "source": [
    "Python String Methods\n",
    "Manipulate strings using various built-in methods.\n",
    "Perform operations like concatenation, slicing, finding substrings.\n",
    "Convert strings to uppercase, lowercase, and title case.\n",
    "Remove whitespace and split strings.\n"
   ]
  },
  {
   "cell_type": "markdown",
   "metadata": {},
   "source": [
    "## Python String Methods"
   ]
  },
  {
   "cell_type": "code",
   "execution_count": 53,
   "metadata": {},
   "outputs": [
    {
     "name": "stdout",
     "output_type": "stream",
     "text": [
      "6\n",
      "HELLO PYTHON\n",
      "hello python\n",
      "Hello python\n",
      "Hello Python\n",
      "Python programming\n",
      "Python programming   \n",
      "   Python programming\n",
      "0\n",
      "15\n",
      "2\n"
     ]
    }
   ],
   "source": [
    "# Manipulate strings using various built-in methods.\n",
    "\n",
    "string1 = \"Hello\"\n",
    "string2 = 'World'\n",
    "string3 = '''This is a multi-line\n",
    "string'''\n",
    "\n",
    "text = \"Python\"\n",
    "print(len(text))  # Output: 6\n",
    "\n",
    "# Convert strings to uppercase, lowercase, and title case.\n",
    "text = \"hello python\"\n",
    "print(text.upper())    # Output: \"HELLO PYTHON\"\n",
    "print(text.lower())    # Output: \"hello python\"\n",
    "print(text.capitalize())  # Output: \"Hello python\"\n",
    "print(text.title())       # Output: \"Hello Python\"\n",
    "\n",
    "# Remove whitespace and split strings.\n",
    "text = \"   Python programming   \"\n",
    "print(text.strip())   # Output: \"Python programming\"\n",
    "print(text.lstrip())  # Output: \"Python programming   \"\n",
    "print(text.rstrip())  # Output: \"   Python programming\"\n",
    "\n",
    "text = \"Python is fun, Python is cool\"\n",
    "print(text.find(\"Python\"))  # Output: 0\n",
    "print(text.rfind(\"Python\")) # Output: 14  index of last occurence\n",
    "print(text.count(\"Python\")) # Output: 2\n"
   ]
  },
  {
   "cell_type": "code",
   "execution_count": 55,
   "metadata": {},
   "outputs": [
    {
     "name": "stdout",
     "output_type": "stream",
     "text": [
      "Hello World, How are you?\n",
      "Pytho\n",
      "Programming\n",
      "Python\n",
      "ng\n",
      "Pto rg\n",
      "7\n",
      "-1\n",
      "10\n"
     ]
    }
   ],
   "source": [
    "# Perform operations like concatenation, slicing, finding substrings.\n",
    "str1 = \"Hello\"\n",
    "str2 = \"World\"\n",
    "str3 = \"How\"\n",
    "str4 = \"are\"\n",
    "str5 = \"you?\"\n",
    "result = str1 + \" \" + str2 + \", \" + str3 + \" \" + str4 + \" \" + str5\n",
    "print(result)  # Output: \"Hello World, How are you?\"\n",
    "\n",
    "text = \"Python Programming\"\n",
    "\n",
    "# Slice from index 0 to 5 (exclusive)\n",
    "substring = text[0:5]\n",
    "print(substring)  # Output: \"Python\"\n",
    "\n",
    "# Slice from index 7 to the end of the string\n",
    "substring2 = text[7:]\n",
    "print(substring2)  # Output: \"Programming\"\n",
    "\n",
    "# Slice from the beginning to index 6 (exclusive)\n",
    "substring3 = text[:6]\n",
    "print(substring3)  # Output: \"Python\"\n",
    "\n",
    "# Negative index: Start from the second last character\n",
    "substring4 = text[-2:]\n",
    "print(substring4)  # Output: \"ng\"\n",
    "\n",
    "# Slicing with a step: Get every second character\n",
    "substring5 = text[0:12:2]\n",
    "print(substring5)  # Output: \"Pto rg\"\n",
    "\n",
    "\n",
    "text = \"Python is amazing\"\n",
    "\n",
    "# Using find() to find the index of the substring \"is\"\n",
    "index_of_is = text.find(\"is\")\n",
    "print(index_of_is)  # Output: 7 (position of \"is\")\n",
    "\n",
    "# If substring is not found, find() returns -1\n",
    "index_of_not_found = text.find(\"Java\")\n",
    "print(index_of_not_found)  # Output: -1\n",
    "\n",
    "# Using index() to find the index of the substring \"amazing\"\n",
    "index_of_amazing = text.index(\"amazing\")\n",
    "print(index_of_amazing)  # Output: 11\n",
    "\n"
   ]
  },
  {
   "cell_type": "code",
   "execution_count": null,
   "metadata": {},
   "outputs": [],
   "source": []
  }
 ],
 "metadata": {
  "colab": {
   "provenance": []
  },
  "kernelspec": {
   "display_name": "Python 3 (ipykernel)",
   "language": "python",
   "name": "python3"
  },
  "language_info": {
   "codemirror_mode": {
    "name": "ipython",
    "version": 3
   },
   "file_extension": ".py",
   "mimetype": "text/x-python",
   "name": "python",
   "nbconvert_exporter": "python",
   "pygments_lexer": "ipython3",
   "version": "3.10.5"
  }
 },
 "nbformat": 4,
 "nbformat_minor": 1
}
